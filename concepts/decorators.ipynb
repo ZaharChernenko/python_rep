{
 "cells": [
  {
   "cell_type": "markdown",
   "metadata": {},
   "source": [
    "Эта функция может изменить поведение функции print, однако она почему-то не работает с jupyter notebook, а только в самом python"
   ]
  },
  {
   "cell_type": "code",
   "execution_count": null,
   "metadata": {},
   "outputs": [],
   "source": [
    "import builtins\n",
    "\n",
    "def changePrint():\n",
    "    originPrint = builtins.print\n",
    "    def wrapper(*args, **kwargs):\n",
    "        originPrint(\"it's modified print\")\n",
    "        originPrint(*args, **kwargs)\n",
    "    builtins.print = wrapper\n",
    "    return originPrint\n",
    "\n",
    "print(\"Это обычный принт\")\n",
    "originPrint = changePrint()\n",
    "print()"
   ]
  },
  {
   "cell_type": "code",
   "execution_count": 7,
   "metadata": {},
   "outputs": [
    {
     "name": "stdout",
     "output_type": "stream",
     "text": [
      "base text\n",
      "ЭТО МОДИФИКАЦИЯ ФУНКЦИОНАЛА ЧЕРЕЗ ПРИСВАИВАНИЕ\n",
      "<function toUpper.<locals>.wrapper at 0x1119b3420>\n",
      "ЭТО МОДИФИКАЦИЯ ЧЕРЕЗ ДЕКОРАТОР\n",
      "<function toUpper.<locals>.wrapper at 0x111a102c0>\n"
     ]
    }
   ],
   "source": [
    "def Print(text: str):\n",
    "    print(text)\n",
    "\n",
    "\n",
    "Print(\"base text\")\n",
    "\n",
    "def toUpper(function):\n",
    "    def wrapper(text: str):\n",
    "        function(text.upper())\n",
    "    return wrapper\n",
    "\n",
    "\n",
    "@toUpper\n",
    "def upperPrintDec(text: str):\n",
    "    print(text)\n",
    "\n",
    "upperPrint = toUpper(Print)\n",
    "upperPrint(\"Это модификация функционала через присваивание\")\n",
    "print(upperPrint)\n",
    "\n",
    "upperPrintDec(\"Это модификация через декоратор\")\n",
    "print(upperPrintDec)"
   ]
  }
 ],
 "metadata": {
  "kernelspec": {
   "display_name": "Python 3",
   "language": "python",
   "name": "python3"
  },
  "language_info": {
   "codemirror_mode": {
    "name": "ipython",
    "version": 3
   },
   "file_extension": ".py",
   "mimetype": "text/x-python",
   "name": "python",
   "nbconvert_exporter": "python",
   "pygments_lexer": "ipython3",
   "version": "3.12.0"
  }
 },
 "nbformat": 4,
 "nbformat_minor": 2
}
