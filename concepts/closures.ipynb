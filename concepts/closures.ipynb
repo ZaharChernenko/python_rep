{
 "cells": [
  {
   "cell_type": "markdown",
   "metadata": {},
   "source": [
    "### Функция со статическим полем"
   ]
  },
  {
   "cell_type": "code",
   "execution_count": 2,
   "metadata": {},
   "outputs": [
    {
     "name": "stdout",
     "output_type": "stream",
     "text": [
      "Now i keep 1\n",
      "Now i keep 2\n",
      "Now i keep 2\n",
      "Now i keep 3\n"
     ]
    }
   ],
   "source": [
    "def static(digit: int):\n",
    "    def nested():\n",
    "        nonlocal digit\n",
    "        print(f\"Now i keep {digit}\")\n",
    "        digit += 1\n",
    "    return nested\n",
    "\n",
    "\n",
    "static1 = static(1)\n",
    "static1()\n",
    "static1()\n",
    "\n",
    "static2 = static(2)\n",
    "static2()\n",
    "static2()"
   ]
  }
 ],
 "metadata": {
  "kernelspec": {
   "display_name": "Python 3",
   "language": "python",
   "name": "python3"
  },
  "language_info": {
   "codemirror_mode": {
    "name": "ipython",
    "version": 3
   },
   "file_extension": ".py",
   "mimetype": "text/x-python",
   "name": "python",
   "nbconvert_exporter": "python",
   "pygments_lexer": "ipython3",
   "version": "3.12.0"
  }
 },
 "nbformat": 4,
 "nbformat_minor": 2
}
