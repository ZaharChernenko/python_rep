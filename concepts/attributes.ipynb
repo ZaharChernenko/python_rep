{
 "cells": [
  {
   "cell_type": "markdown",
   "metadata": {},
   "source": [
    "### Атрибуты класса и атрибуты экземпляра класса"
   ]
  },
  {
   "cell_type": "code",
   "execution_count": 25,
   "metadata": {},
   "outputs": [
    {
     "name": "stdout",
     "output_type": "stream",
     "text": [
      "True\n",
      "False\n",
      "[1, 2, 3]\n"
     ]
    }
   ],
   "source": [
    "class ExampleClass:\n",
    "    class_var: list[int] = [1]\n",
    "    def __init__(self):\n",
    "        self.instance_var: list[int] = [1]\n",
    "\n",
    "    def add2ClassVar(self):\n",
    "        ExampleClass.class_var.append(2)\n",
    "        self.class_var.append(3)\n",
    "\n",
    "\n",
    "e1 = ExampleClass()\n",
    "e2 = ExampleClass()\n",
    "print(e1.class_var is e2.class_var)  # Эта переменная общая для всех экземпляров класса,\n",
    "# по сути класс это отдельная область видимости, которая содержит эту переменную,\n",
    "# она создается лишь раз при определении класса\n",
    "print(e1.instance_var is e2.instance_var)  # Эта переменная уникальна для каждого экземлпяра\n",
    "e1.add2ClassVar()\n",
    "print(e2.class_var)"
   ]
  },
  {
   "cell_type": "markdown",
   "metadata": {},
   "source": [
    "### Атрибуты функций\n",
    "Могут помочь при создании упрощенных замыканий"
   ]
  },
  {
   "cell_type": "code",
   "execution_count": 30,
   "metadata": {},
   "outputs": [
    {
     "name": "stdout",
     "output_type": "stream",
     "text": [
      "[1]\n",
      "{'attr': [1]}\n",
      "['__annotations__', '__builtins__', '__call__', '__class__', '__closure__', '__code__', '__defaults__', '__delattr__', '__dict__', '__dir__', '__doc__', '__eq__', '__format__', '__ge__', '__get__', '__getattribute__', '__getstate__', '__globals__', '__gt__', '__hash__', '__init__', '__init_subclass__', '__kwdefaults__', '__le__', '__lt__', '__module__', '__name__', '__ne__', '__new__', '__qualname__', '__reduce__', '__reduce_ex__', '__repr__', '__setattr__', '__sizeof__', '__str__', '__subclasshook__', '__type_params__', 'attr']\n"
     ]
    }
   ],
   "source": [
    "def exampleDef():\n",
    "    attr = []  # Это не атрибут, а просто локальная переменная\n",
    "    print(exampleDef.attr)\n",
    "\n",
    "exampleDef.attr = []\n",
    "exampleDef.attr.append(1)\n",
    "exampleDef()\n",
    "\n",
    "# Чтобы получить доступ к атрибутам объекта, можно вызвать переменную __dict__\n",
    "print(exampleDef.__dict__)\n",
    "# dir предоставляет не только атрибуты конкретного класса, но и его родителей\n",
    "print(dir(exampleDef))"
   ]
  },
  {
   "cell_type": "markdown",
   "metadata": {},
   "source": [
    "### Атрибуты функций, как функциональные объекты"
   ]
  },
  {
   "cell_type": "code",
   "execution_count": 4,
   "metadata": {},
   "outputs": [
    {
     "name": "stdout",
     "output_type": "stream",
     "text": [
      "9\n",
      "36\n",
      "16\n"
     ]
    }
   ],
   "source": [
    "def multiplierOn(mul: int) -> 'function':\n",
    "    def nested(digit: int) -> int:\n",
    "        return nested.mul * digit\n",
    "    nested.mul = mul\n",
    "    return nested\n",
    "\n",
    "\n",
    "multiplier3 = multiplierOn(3)\n",
    "print(multiplier3(3))\n",
    "print(multiplier3(12))\n",
    "\n",
    "multiplier4 = multiplierOn(4)\n",
    "print(multiplier4(4))"
   ]
  },
  {
   "cell_type": "markdown",
   "metadata": {},
   "source": [
    "### Функция со статическим полем"
   ]
  },
  {
   "cell_type": "code",
   "execution_count": 5,
   "metadata": {},
   "outputs": [
    {
     "name": "stdout",
     "output_type": "stream",
     "text": [
      "Now i keep 1\n",
      "Now i keep 2\n"
     ]
    }
   ],
   "source": [
    "def static(digit: int):\n",
    "    def nested() -> None:\n",
    "        print(f\"Now i keep {nested.digit}\")\n",
    "        nested.digit += 1\n",
    "    nested.digit = digit\n",
    "    return nested\n",
    "\n",
    "\n",
    "static1 = static(1)\n",
    "static1()\n",
    "static1()"
   ]
  }
 ],
 "metadata": {
  "kernelspec": {
   "display_name": "Python 3",
   "language": "python",
   "name": "python3"
  },
  "language_info": {
   "codemirror_mode": {
    "name": "ipython",
    "version": 3
   },
   "file_extension": ".py",
   "mimetype": "text/x-python",
   "name": "python",
   "nbconvert_exporter": "python",
   "pygments_lexer": "ipython3",
   "version": "3.12.0"
  }
 },
 "nbformat": 4,
 "nbformat_minor": 2
}
