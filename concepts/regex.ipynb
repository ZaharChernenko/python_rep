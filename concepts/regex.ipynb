{
 "cells": [
  {
   "cell_type": "code",
   "execution_count": 2,
   "metadata": {},
   "outputs": [
    {
     "name": "stdout",
     "output_type": "stream",
     "text": [
      "ths s tst STRNG\n"
     ]
    }
   ],
   "source": [
    "import re\n",
    "def disemvowel(string_):\n",
    "    return re.sub(\"[aeiou]*\", \"\", string_, flags=re.IGNORECASE | re.ASCII) # если опустить аргумент flags\n",
    "                                                                           # и пробовать передать так, то\n",
    "                                                                           # будет считаться, что это аргумент count\n",
    "\n",
    "print(disemvowel(\"this is test STRING\"))"
   ]
  },
  {
   "cell_type": "code",
   "execution_count": 3,
   "metadata": {},
   "outputs": [
    {
     "name": "stdout",
     "output_type": "stream",
     "text": [
      "theStealthWarrior\n"
     ]
    }
   ],
   "source": [
    "def to_camel_case(text):\n",
    "    return re.sub(r\"(?:-|_)(\\w)\", lambda m: m.group(1).upper(), text)  # sub принимает для repl, как строку\n",
    "                                                                       # так и объект match\n",
    "print(to_camel_case(\"the_stealth_warrior\"))"
   ]
  },
  {
   "cell_type": "code",
   "execution_count": 4,
   "metadata": {},
   "outputs": [
    {
     "name": "stdout",
     "output_type": "stream",
     "text": [
      "[('U', 'UUUU'), ('E', 'EEE'), ('A', 'AAAAA')]\n",
      "4.0\n"
     ]
    }
   ],
   "source": [
    "def trump_detector(trump_speech):\n",
    "    res: list = re.findall(r\"([aeiou])(\\1*)\", trump_speech, flags=re.I)  # в случае, когда присутствуют группы захвата\n",
    "    print(res)                                                           # нулевая группа не добавляется в список\n",
    "    return round(sum(len(row[1]) for row in res) / len(res), 2)\n",
    "\n",
    "print(trump_detector(\"HUUUUUGEEEE WAAAAAALL\"))"
   ]
  },
  {
   "cell_type": "code",
   "execution_count": 5,
   "metadata": {},
   "outputs": [
    {
     "name": "stdout",
     "output_type": "stream",
     "text": [
      "<re.Match object; span=(1, 6), match='UUUUU'>\n",
      "<re.Match object; span=(7, 11), match='EEEE'>\n",
      "<re.Match object; span=(13, 19), match='AAAAAA'>\n",
      "4.0\n"
     ]
    }
   ],
   "source": [
    "def trump_detector(trump_speech):\n",
    "    count = dublicated = 0\n",
    "    for row in re.finditer(r\"([aeiou])(\\1*)\", trump_speech, flags=re.I):  # finditer всегда включает в себя 0 группу\n",
    "        print(row)\n",
    "        dublicated += len(row.group(2))\n",
    "        count += 1\n",
    "    return round(dublicated / count, 2)\n",
    "\n",
    "print(trump_detector(\"HUUUUUGEEEE WAAAAAALL\"))"
   ]
  }
 ],
 "metadata": {
  "kernelspec": {
   "display_name": "Python 3",
   "language": "python",
   "name": "python3"
  },
  "language_info": {
   "codemirror_mode": {
    "name": "ipython",
    "version": 3
   },
   "file_extension": ".py",
   "mimetype": "text/x-python",
   "name": "python",
   "nbconvert_exporter": "python",
   "pygments_lexer": "ipython3",
   "version": "3.12.0"
  }
 },
 "nbformat": 4,
 "nbformat_minor": 2
}
